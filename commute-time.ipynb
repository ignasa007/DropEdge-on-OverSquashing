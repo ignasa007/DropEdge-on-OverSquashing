{
 "cells": [
  {
   "cell_type": "code",
   "execution_count": 1,
   "metadata": {},
   "outputs": [],
   "source": [
    "import sys\n",
    "\n",
    "import numpy as np\n",
    "import pandas as pd\n",
    "from scipy.sparse.csgraph import connected_components\n",
    "import torch\n",
    "from torch_geometric.utils import degree, to_undirected, to_scipy_sparse_matrix\n",
    "from torch_geometric.datasets import TUDataset\n",
    "import matplotlib.pyplot as plt"
   ]
  },
  {
   "cell_type": "code",
   "execution_count": 2,
   "metadata": {},
   "outputs": [],
   "source": [
    "def compute_commute_times(adj, P=0., to_return=('avg_commute_time',)):\n",
    "\n",
    "    adj = to_undirected(adj.type(torch.int64))\n",
    "    degrees = degree(adj[0], num_nodes=adj.max()+1)\n",
    "    A = torch.zeros((degrees.size(0), degrees.size(0)))\n",
    "    A[adj[0], adj[1]] = 1.\n",
    "    num_connected_components = connected_components(A, directed=False, return_labels=False)\n",
    "    assert num_connected_components == 1, f'num_connected_components = {num_connected_components}'\n",
    "\n",
    "    L = torch.diag(degrees) - A\n",
    "    L_pinv = torch.linalg.pinv(L)\n",
    "    L_pinv_diag = torch.diag(L_pinv)\n",
    "    \n",
    "    beta = torch.sum(degrees / (1 - P**degrees))\n",
    "    C = beta * (L_pinv_diag.unsqueeze(0) + L_pinv_diag.unsqueeze(1) - 2*L_pinv)\n",
    "    C_flattened = torch.triu(C+1., diagonal=1).flatten()\n",
    "    C_filtered = C_flattened[C_flattened > 0.] - 1.\n",
    "    C_mean = torch.mean(C_filtered).item()\n",
    "\n",
    "    if not to_return:\n",
    "        return C_mean\n",
    "    \n",
    "    out = dict()\n",
    "    if 'L' in to_return:\n",
    "        out['L'] = L\n",
    "    if 'C' in to_return:\n",
    "        out['C'] = C\n",
    "    if 'C_filtered' in to_return:\n",
    "        out['C_filtered'] = C_filtered\n",
    "    if 'C_mean' in to_return:\n",
    "        out['C_mean'] = C_mean\n",
    "\n",
    "    return out"
   ]
  },
  {
   "cell_type": "code",
   "execution_count": 8,
   "metadata": {},
   "outputs": [
    {
     "name": "stdout",
     "output_type": "stream",
     "text": [
      "tensor([[ 0.0000, 12.0000, 24.0000, 33.0000, 33.0000, 36.0000],\n",
      "        [12.0000,  0.0000, 12.0000, 21.0000, 21.0000, 24.0000],\n",
      "        [24.0000, 12.0000,  0.0000,  9.0000,  9.0000, 12.0000],\n",
      "        [33.0000, 21.0000,  9.0000,  0.0000, 12.0000,  9.0000],\n",
      "        [33.0000, 21.0000,  9.0000, 12.0000,  0.0000,  9.0000],\n",
      "        [36.0000, 24.0000, 12.0000,  9.0000,  9.0000,  0.0000]])\n"
     ]
    }
   ],
   "source": [
    "adj = torch.Tensor([\n",
    "    [0, 1, 2, 2, 3, 4],\n",
    "    [1, 2, 3, 4, 5, 5]\n",
    "])\n",
    "print(compute_commute_times(adj, P=0., to_return=('C',)).get('C'))"
   ]
  },
  {
   "cell_type": "code",
   "execution_count": 18,
   "metadata": {},
   "outputs": [
    {
     "name": "stdout",
     "output_type": "stream",
     "text": [
      "{'C': tensor([[ 0.0000,  6.6667, 13.3333],\n",
      "        [ 6.6667,  0.0000,  6.6667],\n",
      "        [13.3333,  6.6667,  0.0000]])}\n",
      "{'C': tensor([[0.0000, 5.3333, 5.3333],\n",
      "        [5.3333, 0.0000, 5.3333],\n",
      "        [5.3333, 5.3333, 0.0000]])}\n",
      "{'C': tensor([[0.0000, 6.8571, 6.8571, 6.8571],\n",
      "        [6.8571, 0.0000, 6.8571, 6.8571],\n",
      "        [6.8571, 6.8571, 0.0000, 6.8571],\n",
      "        [6.8571, 6.8571, 6.8571, 0.0000]])}\n"
     ]
    }
   ],
   "source": [
    "adj = torch.Tensor([\n",
    "    [0, 1],\n",
    "    [1, 2]\n",
    "])\n",
    "print(compute_commute_times(adj, P=0.5, to_return=('C',)))\n",
    "# [[ 0.0000,  6.6667, 13.3333],\n",
    "# [ 6.6667,  0.0000,  6.6667],\n",
    "# [13.3333,  6.6667,  0.0000]]\n",
    "\n",
    "adj = torch.Tensor([\n",
    "    [0, 1, 2],\n",
    "    [1, 2, 0]\n",
    "])\n",
    "print(compute_commute_times(adj, P=0.5, to_return=('C',)))\n",
    "# [[0.0000, 5.3333, 5.3333],\n",
    "# [5.3333, 0.0000, 5.3333],\n",
    "# [5.3333, 5.3333, 0.0000]]\n",
    "\n",
    "adj = torch.Tensor([\n",
    "    [0, 0, 0, 1, 1, 2],\n",
    "    [1, 2, 3, 2, 3, 3]\n",
    "])\n",
    "print(compute_commute_times(adj, P=0.5, to_return=('C',)))\n",
    "# [[0.0000, 6.8571, 6.8571, 6.8571],\n",
    "# [6.8571, 0.0000, 6.8571, 6.8571],\n",
    "# [6.8571, 6.8571, 0.0000, 6.8571],\n",
    "# [6.8571, 6.8571, 6.8571, 0.0000]]"
   ]
  },
  {
   "cell_type": "code",
   "execution_count": 9,
   "metadata": {},
   "outputs": [
    {
     "data": {
      "text/plain": [
       "1113"
      ]
     },
     "execution_count": 9,
     "metadata": {},
     "output_type": "execute_result"
    }
   ],
   "source": [
    "dataset = TUDataset(root='./data', name='Proteins')\n",
    "len(dataset)"
   ]
  },
  {
   "cell_type": "code",
   "execution_count": 20,
   "metadata": {},
   "outputs": [],
   "source": [
    "molecule = dataset[0]\n",
    "result = compute_commute_times(molecule.edge_index, P=0., to_return=('C_filtered',))"
   ]
  },
  {
   "cell_type": "code",
   "execution_count": 21,
   "metadata": {},
   "outputs": [
    {
     "data": {
      "image/png": "[encoded data removed]",
      "text/plain": [
       "<Figure size 640x480 with 1 Axes>"
      ]
     },
     "metadata": {},
     "output_type": "display_data"
    }
   ],
   "source": [
    "plt.hist(result['C_filtered'], bins=20)\n",
    "plt.xlabel('Commute Times')\n",
    "plt.ylabel('Number of Node Pairs')\n",
    "plt.grid()\n",
    "plt.show()"
   ]
  },
  {
   "cell_type": "code",
   "execution_count": 22,
   "metadata": {},
   "outputs": [
    {
     "name": "stdout",
     "output_type": "stream",
     "text": [
      "i =    5: AssertionError(num_connected_components = 8), num_nodes = 336\n",
      "i =    6: AssertionError(num_connected_components = 4), num_nodes = 108\n",
      "i =   20: AssertionError(num_connected_components = 8), num_nodes = 481\n",
      "i =   87: AssertionError(num_connected_components = 3), num_nodes = 38\n",
      "i =  149: AssertionError(num_connected_components = 2), num_nodes = 44\n",
      "i =  154: AssertionError(num_connected_components = 2), num_nodes = 58\n",
      "i =  190: AssertionError(num_connected_components = 6), num_nodes = 189\n",
      "i =  212: AssertionError(num_connected_components = 2), num_nodes = 43\n",
      "i =  235: AssertionError(num_connected_components = 4), num_nodes = 116\n",
      "i =  238: AssertionError(num_connected_components = 2), num_nodes = 43\n",
      "i =  253: AssertionError(num_connected_components = 2), num_nodes = 27\n",
      "i =  263: AssertionError(num_connected_components = 2), num_nodes = 48\n",
      "i =  265: AssertionError(num_connected_components = 2), num_nodes = 40\n",
      "i =  274: AssertionError(num_connected_components = 2), num_nodes = 33\n",
      "i =  280: AssertionError(num_connected_components = 2), num_nodes = 48\n",
      "i =  286: AssertionError(num_connected_components = 2), num_nodes = 40\n",
      "i =  287: AssertionError(num_connected_components = 2), num_nodes = 95\n",
      "i =  340: AssertionError(num_connected_components = 2), num_nodes = 88\n",
      "i =  347: AssertionError(num_connected_components = 2), num_nodes = 62\n",
      "i =  359: AssertionError(num_connected_components = 2), num_nodes = 38\n",
      "i =  404: AssertionError(num_connected_components = 2), num_nodes = 123\n",
      "i =  470: AssertionError(num_connected_components = 2), num_nodes = 86\n",
      "i =  496: AssertionError(num_connected_components = 6), num_nodes = 126\n",
      "i =  567: AssertionError(num_connected_components = 2), num_nodes = 42\n",
      "i =  645: AssertionError(num_connected_components = 4), num_nodes = 56\n",
      "i =  702: AssertionError(num_connected_components = 2), num_nodes = 94\n",
      "i =  712: AssertionError(num_connected_components = 2), num_nodes = 22\n",
      "i =  757: AssertionError(num_connected_components = 3), num_nodes = 64\n",
      "i =  758: AssertionError(num_connected_components = 9), num_nodes = 140\n",
      "i =  766: AssertionError(num_connected_components = 2), num_nodes = 46\n",
      "i =  771: AssertionError(num_connected_components = 2), num_nodes = 39\n",
      "i =  790: AssertionError(num_connected_components = 2), num_nodes = 65\n",
      "i =  795: AssertionError(num_connected_components = 2), num_nodes = 23\n",
      "i =  809: AssertionError(num_connected_components = 2), num_nodes = 32\n",
      "i =  829: AssertionError(num_connected_components = 4), num_nodes = 46\n",
      "i =  842: AssertionError(num_connected_components = 2), num_nodes = 36\n",
      "i =  843: AssertionError(num_connected_components = 2), num_nodes = 43\n",
      "i =  894: AssertionError(num_connected_components = 2), num_nodes = 19\n",
      "i =  931: AssertionError(num_connected_components = 2), num_nodes = 23\n",
      "i =  933: AssertionError(num_connected_components = 2), num_nodes = 15\n",
      "i =  989: AssertionError(num_connected_components = 2), num_nodes = 20\n",
      "i =  993: AssertionError(num_connected_components = 2), num_nodes = 60\n",
      "i = 1008: AssertionError(num_connected_components = 4), num_nodes = 57\n",
      "i = 1011: AssertionError(num_connected_components = 4), num_nodes = 44\n",
      "i = 1095: AssertionError(num_connected_components = 2), num_nodes = 12\n",
      "i = 1102: AssertionError(num_connected_components = 2), num_nodes = 20\n"
     ]
    }
   ],
   "source": [
    "avg_commute_times = list()\n",
    "\n",
    "for i in range(len(dataset)):\n",
    "    molecule = dataset[i]\n",
    "    try:\n",
    "        result = compute_commute_times(molecule.edge_index, to_return=('C_mean'))\n",
    "        avg_commute_times.append(result['C_mean'])\n",
    "    except:\n",
    "        print(\n",
    "            f\"i = {str(i).rjust(4, ' ')}: \"\n",
    "            f'{sys.exc_info()[0].__name__}({sys.exc_info()[1]}), ' +\n",
    "            f'num_nodes = {molecule.num_nodes}'\n",
    "        )"
   ]
  },
  {
   "cell_type": "code",
   "execution_count": 26,
   "metadata": {},
   "outputs": [
    {
     "data": {
      "text/plain": [
       "(2, array([0, 1, 0, 0, 0, 0, 0, 1, 1, 1, 1, 1]))"
      ]
     },
     "execution_count": 26,
     "metadata": {},
     "output_type": "execute_result"
    }
   ],
   "source": [
    "i = 1095\n",
    "molecule = dataset[i]\n",
    "\n",
    "connected_components(to_scipy_sparse_matrix(molecule.edge_index), directed=False, return_labels=True)"
   ]
  },
  {
   "cell_type": "code",
   "execution_count": 27,
   "metadata": {},
   "outputs": [
    {
     "data": {
      "image/png": "[encoded data removed]",
      "text/plain": [
       "<Figure size 640x480 with 1 Axes>"
      ]
     },
     "metadata": {},
     "output_type": "display_data"
    }
   ],
   "source": [
    "plt.hist(avg_commute_times, bins=20)\n",
    "plt.xlabel('Average Commute Times')\n",
    "plt.ylabel('Number of Graphs')\n",
    "plt.grid()\n",
    "plt.show()"
   ]
  }
 ],
 "metadata": {
  "kernelspec": {
   "display_name": "gnn",
   "language": "python",
   "name": "python3"
  },
  "language_info": {
   "codemirror_mode": {
    "name": "ipython",
    "version": 3
   },
   "file_extension": ".py",
   "mimetype": "text/x-python",
   "name": "python",
   "nbconvert_exporter": "python",
   "pygments_lexer": "ipython3",
   "version": "3.8.19"
  }
 },
 "nbformat": 4,
 "nbformat_minor": 2
}
